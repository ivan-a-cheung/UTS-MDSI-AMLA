{
 "cells": [
  {
   "cell_type": "markdown",
   "metadata": {},
   "source": [
    "### MDSI Advanced Machine Learning Applications\n",
    "\n",
    "**Student: Ivan Cheung**\n",
    "\n",
    "**Assignment: Kaggle 1**\n",
    "\n",
    "\n",
    "Model: Logistic Regression (Week 3)\n",
    "\n",
    "This model was built during week 3 (28/08 - 03/09) by applying a logistic regression.\n",
    "Improvements in this model from week 2 include:\n",
    "\n",
    "- Inclusion of AdaBoost Classifier (from model 3)\n",
    "- Loop through several hypertuning perimeters to evaluate best AUROC scores."
   ]
  },
  {
   "cell_type": "code",
   "execution_count": 1,
   "metadata": {},
   "outputs": [],
   "source": [
    "## Import libraries\n",
    "\n",
    "import pandas as pd\n",
    "import numpy as np\n",
    "from sklearn.preprocessing import StandardScaler, OneHotEncoder   ## for normalising the feature data\n",
    "from sklearn.model_selection import train_test_split              ## making test/train splits, for producing AUROC score?\n",
    "from sklearn.metrics import confusion_matrix\n",
    "import matplotlib.pyplot as plt\n",
    "from joblib import dump\n",
    "from imblearn.over_sampling import SMOTE\n",
    "from sklearn.ensemble import AdaBoostClassifier\n",
    "from sklearn.tree import DecisionTreeClassifier\n",
    "from sklearn.compose import ColumnTransformer\n",
    "from sklearn.pipeline import Pipeline\n",
    "from imblearn.pipeline import Pipeline as imbpipeline\n",
    "from sklearn.model_selection import GridSearchCV\n",
    "import seaborn as sb\n",
    "\n",
    "from sklearn.metrics import roc_auc_score\n",
    "from sklearn.metrics import roc_curve"
   ]
  },
  {
   "cell_type": "code",
   "execution_count": 2,
   "metadata": {},
   "outputs": [],
   "source": [
    "# Load train and test data\n",
    "df = pd.read_csv('../data/raw/train.csv', low_memory=False)\n",
    "test_df = pd.read_csv('../data/raw/test.csv', low_memory=False)"
   ]
  },
  {
   "cell_type": "code",
   "execution_count": 3,
   "metadata": {},
   "outputs": [
    {
     "data": {
      "text/plain": [
       "yr\n",
       "Jr      14923\n",
       "Fr      14906\n",
       "So      13252\n",
       "Sr      12711\n",
       "0           5\n",
       "57.1        1\n",
       "42.9        1\n",
       "Name: count, dtype: int64"
      ]
     },
     "execution_count": 3,
     "metadata": {},
     "output_type": "execute_result"
    }
   ],
   "source": [
    "df['yr'].value_counts()"
   ]
  },
  {
   "cell_type": "markdown",
   "metadata": {},
   "source": [
    "### Pre-processing:\n",
    "\n",
    "1) Create preprocessing function:\n",
    "- Remove unwanted columns\n",
    "- Fill nulls with '0'\n",
    "\n",
    "2) Apply preprocessing steps\n",
    "\n",
    "3) Extract target and player Id columns"
   ]
  },
  {
   "cell_type": "code",
   "execution_count": 3,
   "metadata": {},
   "outputs": [],
   "source": [
    "## PREPROCESSING FUNCTIONS\n",
    "\n",
    "## create a function to remove the corrupt columns and return a clean df\n",
    "def remove_unwanted_cols(df):\n",
    "    # ftr - no description given, removed from feature analysis\n",
    "    # yr - player year details are descriptive, need to vectorise in future modelling\n",
    "    # ht - player height data has been corrupted\n",
    "    # num - payer number not relevant as a feature\n",
    "    # pfr - no description given, removed from feature analysis\n",
    "    # type - metadata field not relevant as a feature\n",
    "    # year - no longitudinal inclusion for feature modeling\n",
    "\n",
    "    df_clean = df.drop([\"ht\", \"yr\", \"num\", \"type\" ,\"year\", \"ftr\", \"pfr\"], axis = 1)    \n",
    "    ##df_clean = df.drop([\"team\", \"conf\", \"ht\", \"yr\", \"num\", \"type\" ,\"year\", \"ftr\", \"pfr\"], axis = 1)\n",
    "\n",
    "    return df_clean\n",
    "\n",
    "## fill null values with 0\n",
    "## TO IMPROVE: not all columns should be filled with 0. Will need to reveiw this moving forward...\n",
    "def fillna(df):\n",
    "    df_clean = df.fillna(0)\n",
    "\n",
    "    return df_clean\n"
   ]
  },
  {
   "cell_type": "code",
   "execution_count": 4,
   "metadata": {},
   "outputs": [],
   "source": [
    "## Preprocessing dataframe \n",
    "\n",
    "# remove unwanted columns, previously identified as corrupt\n",
    "df_clean = remove_unwanted_cols(df)\n",
    "\n",
    "# apply placeholder values for nulls\n",
    "df_clean = fillna(df_clean)\n"
   ]
  },
  {
   "cell_type": "code",
   "execution_count": 5,
   "metadata": {},
   "outputs": [],
   "source": [
    "## pop columns into separate lists\n",
    "target = df_clean.pop('drafted')\n",
    "player_ids = df_clean.pop('player_id')"
   ]
  },
  {
   "cell_type": "markdown",
   "metadata": {},
   "source": [
    "#### Feature Engineering\n",
    "\n",
    "1) Apply Standard Scalar on numerical features\n",
    "\n",
    "2) Apply OneHotEncoding for categorical features\n",
    "\n",
    "3) Merge features into single dataframe\n",
    "\n",
    "4) Apply upsampling to features\n",
    "\n",
    "5) Add steps to modelling pipeline"
   ]
  },
  {
   "cell_type": "code",
   "execution_count": 6,
   "metadata": {},
   "outputs": [],
   "source": [
    "## Apply Standard Scalar and OHE (for team name and conference name)\n",
    "## define the numeric cols and the category cols from the df_clean dataset\n",
    "num_cols = list(df_clean.select_dtypes('number').columns)\n",
    "cat_cols = list(set(df_clean.columns) - set(num_cols))\n"
   ]
  },
  {
   "cell_type": "code",
   "execution_count": 7,
   "metadata": {},
   "outputs": [],
   "source": [
    "ohe = OneHotEncoder(sparse_output=False, drop='first')\n",
    "features = ohe.fit_transform(df_clean[cat_cols])\n",
    "\n",
    "## extract the cat attributes (the team names and conference names) from the training data\n",
    "attribute_cats = ohe.categories_"
   ]
  },
  {
   "cell_type": "code",
   "execution_count": 8,
   "metadata": {},
   "outputs": [],
   "source": [
    "numeric_transformer = Pipeline(steps= [(\"scaler\", StandardScaler())])\n",
    "categorical_transformer = Pipeline(steps= [(\"encoder\", OneHotEncoder(sparse_output=False, drop='first', categories = attribute_cats,handle_unknown='ignore'))])\n",
    "\n",
    "preprocessor = ColumnTransformer(\n",
    "    transformers=[\n",
    "        (\"num\", numeric_transformer, num_cols),\n",
    "        (\"cat\", categorical_transformer, cat_cols),\n",
    "    ]\n",
    ")"
   ]
  },
  {
   "cell_type": "code",
   "execution_count": 34,
   "metadata": {},
   "outputs": [],
   "source": [
    "clf = AdaBoostClassifier(random_state=0, n_estimators=100)\n",
    "model = imbpipeline(\n",
    "    steps=[(\"preprocessor\", preprocessor), (\"smote\", SMOTE()) , (\"classifier\", clf)]\n",
    ")"
   ]
  },
  {
   "cell_type": "markdown",
   "metadata": {},
   "source": [
    "#### Modelling Steps:\n",
    "\n",
    "1) Split training data into train and test set\n",
    "2) Process training data through the model pipeline"
   ]
  },
  {
   "cell_type": "code",
   "execution_count": 10,
   "metadata": {},
   "outputs": [],
   "source": [
    "## splitting the dataset\n",
    "X_train, X_test, y_train, y_test = train_test_split(df_clean, target, test_size=0.2, random_state=8)"
   ]
  },
  {
   "cell_type": "markdown",
   "metadata": {},
   "source": [
    "#### Hyperparameter tuning - AdaBoost\n",
    "\n",
    "1) Get default parameter values\n",
    "2) create a set of parameters to evaluate\n",
    "3) Use GridSearchCV to evalute different hyperparameters."
   ]
  },
  {
   "cell_type": "code",
   "execution_count": 27,
   "metadata": {},
   "outputs": [
    {
     "data": {
      "text/plain": [
       "{'algorithm': 'SAMME.R',\n",
       " 'base_estimator': 'deprecated',\n",
       " 'estimator': None,\n",
       " 'learning_rate': 1.0,\n",
       " 'n_estimators': 100,\n",
       " 'random_state': 0}"
      ]
     },
     "execution_count": 27,
     "metadata": {},
     "output_type": "execute_result"
    }
   ],
   "source": [
    "# get param values\n",
    "clf.get_params()"
   ]
  },
  {
   "cell_type": "code",
   "execution_count": 82,
   "metadata": {},
   "outputs": [],
   "source": [
    "## create parameter values for evaluation\n",
    "parameters = {'n_estimators':[100, 200],\n",
    "              'learning_rate':[0.5,  1, 2]}"
   ]
  },
  {
   "cell_type": "code",
   "execution_count": 83,
   "metadata": {},
   "outputs": [],
   "source": [
    "model = imbpipeline(\n",
    "    steps=[(\"preprocessor\", preprocessor), (\"smote\", SMOTE()) , (\"gridsearch\", GridSearchCV(clf, param_grid=parameters, scoring='roc_auc', cv = 2, verbose = True))]\n",
    "    , verbose = True)"
   ]
  },
  {
   "cell_type": "code",
   "execution_count": 84,
   "metadata": {},
   "outputs": [
    {
     "name": "stdout",
     "output_type": "stream",
     "text": [
      "[Pipeline] ...... (step 1 of 3) Processing preprocessor, total=   0.2s\n",
      "[Pipeline] ............. (step 2 of 3) Processing smote, total=   0.7s\n",
      "Fitting 2 folds for each of 6 candidates, totalling 12 fits\n",
      "[Pipeline] ........ (step 3 of 3) Processing gridsearch, total=35.2min\n"
     ]
    },
    {
     "data": {
      "text/html": [
       "<style>#sk-container-id-6 {color: black;}#sk-container-id-6 pre{padding: 0;}#sk-container-id-6 div.sk-toggleable {background-color: white;}#sk-container-id-6 label.sk-toggleable__label {cursor: pointer;display: block;width: 100%;margin-bottom: 0;padding: 0.3em;box-sizing: border-box;text-align: center;}#sk-container-id-6 label.sk-toggleable__label-arrow:before {content: \"▸\";float: left;margin-right: 0.25em;color: #696969;}#sk-container-id-6 label.sk-toggleable__label-arrow:hover:before {color: black;}#sk-container-id-6 div.sk-estimator:hover label.sk-toggleable__label-arrow:before {color: black;}#sk-container-id-6 div.sk-toggleable__content {max-height: 0;max-width: 0;overflow: hidden;text-align: left;background-color: #f0f8ff;}#sk-container-id-6 div.sk-toggleable__content pre {margin: 0.2em;color: black;border-radius: 0.25em;background-color: #f0f8ff;}#sk-container-id-6 input.sk-toggleable__control:checked~div.sk-toggleable__content {max-height: 200px;max-width: 100%;overflow: auto;}#sk-container-id-6 input.sk-toggleable__control:checked~label.sk-toggleable__label-arrow:before {content: \"▾\";}#sk-container-id-6 div.sk-estimator input.sk-toggleable__control:checked~label.sk-toggleable__label {background-color: #d4ebff;}#sk-container-id-6 div.sk-label input.sk-toggleable__control:checked~label.sk-toggleable__label {background-color: #d4ebff;}#sk-container-id-6 input.sk-hidden--visually {border: 0;clip: rect(1px 1px 1px 1px);clip: rect(1px, 1px, 1px, 1px);height: 1px;margin: -1px;overflow: hidden;padding: 0;position: absolute;width: 1px;}#sk-container-id-6 div.sk-estimator {font-family: monospace;background-color: #f0f8ff;border: 1px dotted black;border-radius: 0.25em;box-sizing: border-box;margin-bottom: 0.5em;}#sk-container-id-6 div.sk-estimator:hover {background-color: #d4ebff;}#sk-container-id-6 div.sk-parallel-item::after {content: \"\";width: 100%;border-bottom: 1px solid gray;flex-grow: 1;}#sk-container-id-6 div.sk-label:hover label.sk-toggleable__label {background-color: #d4ebff;}#sk-container-id-6 div.sk-serial::before {content: \"\";position: absolute;border-left: 1px solid gray;box-sizing: border-box;top: 0;bottom: 0;left: 50%;z-index: 0;}#sk-container-id-6 div.sk-serial {display: flex;flex-direction: column;align-items: center;background-color: white;padding-right: 0.2em;padding-left: 0.2em;position: relative;}#sk-container-id-6 div.sk-item {position: relative;z-index: 1;}#sk-container-id-6 div.sk-parallel {display: flex;align-items: stretch;justify-content: center;background-color: white;position: relative;}#sk-container-id-6 div.sk-item::before, #sk-container-id-6 div.sk-parallel-item::before {content: \"\";position: absolute;border-left: 1px solid gray;box-sizing: border-box;top: 0;bottom: 0;left: 50%;z-index: -1;}#sk-container-id-6 div.sk-parallel-item {display: flex;flex-direction: column;z-index: 1;position: relative;background-color: white;}#sk-container-id-6 div.sk-parallel-item:first-child::after {align-self: flex-end;width: 50%;}#sk-container-id-6 div.sk-parallel-item:last-child::after {align-self: flex-start;width: 50%;}#sk-container-id-6 div.sk-parallel-item:only-child::after {width: 0;}#sk-container-id-6 div.sk-dashed-wrapped {border: 1px dashed gray;margin: 0 0.4em 0.5em 0.4em;box-sizing: border-box;padding-bottom: 0.4em;background-color: white;}#sk-container-id-6 div.sk-label label {font-family: monospace;font-weight: bold;display: inline-block;line-height: 1.2em;}#sk-container-id-6 div.sk-label-container {text-align: center;}#sk-container-id-6 div.sk-container {/* jupyter's `normalize.less` sets `[hidden] { display: none; }` but bootstrap.min.css set `[hidden] { display: none !important; }` so we also need the `!important` here to be able to override the default hidden behavior on the sphinx rendered scikit-learn.org. See: https://github.com/scikit-learn/scikit-learn/issues/21755 */display: inline-block !important;position: relative;}#sk-container-id-6 div.sk-text-repr-fallback {display: none;}</style><div id=\"sk-container-id-6\" class=\"sk-top-container\"><div class=\"sk-text-repr-fallback\"><pre>Pipeline(steps=[(&#x27;preprocessor&#x27;,\n",
       "                 ColumnTransformer(transformers=[(&#x27;num&#x27;,\n",
       "                                                  Pipeline(steps=[(&#x27;scaler&#x27;,\n",
       "                                                                   StandardScaler())]),\n",
       "                                                  [&#x27;GP&#x27;, &#x27;Min_per&#x27;, &#x27;Ortg&#x27;,\n",
       "                                                   &#x27;usg&#x27;, &#x27;eFG&#x27;, &#x27;TS_per&#x27;,\n",
       "                                                   &#x27;ORB_per&#x27;, &#x27;DRB_per&#x27;,\n",
       "                                                   &#x27;AST_per&#x27;, &#x27;TO_per&#x27;, &#x27;FTM&#x27;,\n",
       "                                                   &#x27;FTA&#x27;, &#x27;FT_per&#x27;, &#x27;twoPM&#x27;,\n",
       "                                                   &#x27;twoPA&#x27;, &#x27;twoP_per&#x27;, &#x27;TPM&#x27;,\n",
       "                                                   &#x27;TPA&#x27;, &#x27;TP_per&#x27;, &#x27;blk_per&#x27;,\n",
       "                                                   &#x27;stl_per&#x27;, &#x27;porpag&#x27;, &#x27;adjoe&#x27;,\n",
       "                                                   &#x27;Rec_Rank&#x27;, &#x27;ast_tov&#x27;,\n",
       "                                                   &#x27;rimmade&#x27;, &#x27;rimmade_rimm...\n",
       "       &#x27;SB&#x27;, &#x27;SC&#x27;, &#x27;SEC&#x27;, &#x27;SWAC&#x27;, &#x27;Slnd&#x27;, &#x27;Sum&#x27;, &#x27;WAC&#x27;, &#x27;WCC&#x27;, &#x27;ind&#x27;],\n",
       "      dtype=object)],\n",
       "                                                                                 drop=&#x27;first&#x27;,\n",
       "                                                                                 handle_unknown=&#x27;ignore&#x27;,\n",
       "                                                                                 sparse_output=False))]),\n",
       "                                                  [&#x27;team&#x27;, &#x27;conf&#x27;])])),\n",
       "                (&#x27;smote&#x27;, SMOTE()),\n",
       "                (&#x27;gridsearch&#x27;,\n",
       "                 GridSearchCV(cv=2,\n",
       "                              estimator=AdaBoostClassifier(n_estimators=100,\n",
       "                                                           random_state=0),\n",
       "                              param_grid={&#x27;learning_rate&#x27;: [0.5, 1, 2],\n",
       "                                          &#x27;n_estimators&#x27;: [100, 200]},\n",
       "                              scoring=&#x27;roc_auc&#x27;, verbose=True))],\n",
       "         verbose=True)</pre><b>In a Jupyter environment, please rerun this cell to show the HTML representation or trust the notebook. <br />On GitHub, the HTML representation is unable to render, please try loading this page with nbviewer.org.</b></div><div class=\"sk-container\" hidden><div class=\"sk-item sk-dashed-wrapped\"><div class=\"sk-label-container\"><div class=\"sk-label sk-toggleable\"><input class=\"sk-toggleable__control sk-hidden--visually\" id=\"sk-estimator-id-44\" type=\"checkbox\" ><label for=\"sk-estimator-id-44\" class=\"sk-toggleable__label sk-toggleable__label-arrow\">Pipeline</label><div class=\"sk-toggleable__content\"><pre>Pipeline(steps=[(&#x27;preprocessor&#x27;,\n",
       "                 ColumnTransformer(transformers=[(&#x27;num&#x27;,\n",
       "                                                  Pipeline(steps=[(&#x27;scaler&#x27;,\n",
       "                                                                   StandardScaler())]),\n",
       "                                                  [&#x27;GP&#x27;, &#x27;Min_per&#x27;, &#x27;Ortg&#x27;,\n",
       "                                                   &#x27;usg&#x27;, &#x27;eFG&#x27;, &#x27;TS_per&#x27;,\n",
       "                                                   &#x27;ORB_per&#x27;, &#x27;DRB_per&#x27;,\n",
       "                                                   &#x27;AST_per&#x27;, &#x27;TO_per&#x27;, &#x27;FTM&#x27;,\n",
       "                                                   &#x27;FTA&#x27;, &#x27;FT_per&#x27;, &#x27;twoPM&#x27;,\n",
       "                                                   &#x27;twoPA&#x27;, &#x27;twoP_per&#x27;, &#x27;TPM&#x27;,\n",
       "                                                   &#x27;TPA&#x27;, &#x27;TP_per&#x27;, &#x27;blk_per&#x27;,\n",
       "                                                   &#x27;stl_per&#x27;, &#x27;porpag&#x27;, &#x27;adjoe&#x27;,\n",
       "                                                   &#x27;Rec_Rank&#x27;, &#x27;ast_tov&#x27;,\n",
       "                                                   &#x27;rimmade&#x27;, &#x27;rimmade_rimm...\n",
       "       &#x27;SB&#x27;, &#x27;SC&#x27;, &#x27;SEC&#x27;, &#x27;SWAC&#x27;, &#x27;Slnd&#x27;, &#x27;Sum&#x27;, &#x27;WAC&#x27;, &#x27;WCC&#x27;, &#x27;ind&#x27;],\n",
       "      dtype=object)],\n",
       "                                                                                 drop=&#x27;first&#x27;,\n",
       "                                                                                 handle_unknown=&#x27;ignore&#x27;,\n",
       "                                                                                 sparse_output=False))]),\n",
       "                                                  [&#x27;team&#x27;, &#x27;conf&#x27;])])),\n",
       "                (&#x27;smote&#x27;, SMOTE()),\n",
       "                (&#x27;gridsearch&#x27;,\n",
       "                 GridSearchCV(cv=2,\n",
       "                              estimator=AdaBoostClassifier(n_estimators=100,\n",
       "                                                           random_state=0),\n",
       "                              param_grid={&#x27;learning_rate&#x27;: [0.5, 1, 2],\n",
       "                                          &#x27;n_estimators&#x27;: [100, 200]},\n",
       "                              scoring=&#x27;roc_auc&#x27;, verbose=True))],\n",
       "         verbose=True)</pre></div></div></div><div class=\"sk-serial\"><div class=\"sk-item sk-dashed-wrapped\"><div class=\"sk-label-container\"><div class=\"sk-label sk-toggleable\"><input class=\"sk-toggleable__control sk-hidden--visually\" id=\"sk-estimator-id-45\" type=\"checkbox\" ><label for=\"sk-estimator-id-45\" class=\"sk-toggleable__label sk-toggleable__label-arrow\">preprocessor: ColumnTransformer</label><div class=\"sk-toggleable__content\"><pre>ColumnTransformer(transformers=[(&#x27;num&#x27;,\n",
       "                                 Pipeline(steps=[(&#x27;scaler&#x27;, StandardScaler())]),\n",
       "                                 [&#x27;GP&#x27;, &#x27;Min_per&#x27;, &#x27;Ortg&#x27;, &#x27;usg&#x27;, &#x27;eFG&#x27;,\n",
       "                                  &#x27;TS_per&#x27;, &#x27;ORB_per&#x27;, &#x27;DRB_per&#x27;, &#x27;AST_per&#x27;,\n",
       "                                  &#x27;TO_per&#x27;, &#x27;FTM&#x27;, &#x27;FTA&#x27;, &#x27;FT_per&#x27;, &#x27;twoPM&#x27;,\n",
       "                                  &#x27;twoPA&#x27;, &#x27;twoP_per&#x27;, &#x27;TPM&#x27;, &#x27;TPA&#x27;, &#x27;TP_per&#x27;,\n",
       "                                  &#x27;blk_per&#x27;, &#x27;stl_per&#x27;, &#x27;porpag&#x27;, &#x27;adjoe&#x27;,\n",
       "                                  &#x27;Rec_Rank&#x27;, &#x27;ast_tov&#x27;, &#x27;rimmade&#x27;,\n",
       "                                  &#x27;rimmade_rimmiss&#x27;, &#x27;midmade&#x27;,\n",
       "                                  &#x27;midmade_midmiss&#x27;...\n",
       "       &#x27;Wright St.&#x27;, &#x27;Wyoming&#x27;, &#x27;Xavier&#x27;, &#x27;Yale&#x27;, &#x27;Youngstown St.&#x27;],\n",
       "      dtype=object),\n",
       "                                                                            array([&#x27;A10&#x27;, &#x27;ACC&#x27;, &#x27;AE&#x27;, &#x27;ASun&#x27;, &#x27;Amer&#x27;, &#x27;B10&#x27;, &#x27;B12&#x27;, &#x27;BE&#x27;, &#x27;BSky&#x27;,\n",
       "       &#x27;BSth&#x27;, &#x27;BW&#x27;, &#x27;CAA&#x27;, &#x27;CUSA&#x27;, &#x27;GWC&#x27;, &#x27;Horz&#x27;, &#x27;Ind&#x27;, &#x27;Ivy&#x27;, &#x27;MAAC&#x27;,\n",
       "       &#x27;MAC&#x27;, &#x27;MEAC&#x27;, &#x27;MVC&#x27;, &#x27;MWC&#x27;, &#x27;NEC&#x27;, &#x27;OVC&#x27;, &#x27;P10&#x27;, &#x27;P12&#x27;, &#x27;Pat&#x27;,\n",
       "       &#x27;SB&#x27;, &#x27;SC&#x27;, &#x27;SEC&#x27;, &#x27;SWAC&#x27;, &#x27;Slnd&#x27;, &#x27;Sum&#x27;, &#x27;WAC&#x27;, &#x27;WCC&#x27;, &#x27;ind&#x27;],\n",
       "      dtype=object)],\n",
       "                                                                drop=&#x27;first&#x27;,\n",
       "                                                                handle_unknown=&#x27;ignore&#x27;,\n",
       "                                                                sparse_output=False))]),\n",
       "                                 [&#x27;team&#x27;, &#x27;conf&#x27;])])</pre></div></div></div><div class=\"sk-parallel\"><div class=\"sk-parallel-item\"><div class=\"sk-item\"><div class=\"sk-label-container\"><div class=\"sk-label sk-toggleable\"><input class=\"sk-toggleable__control sk-hidden--visually\" id=\"sk-estimator-id-46\" type=\"checkbox\" ><label for=\"sk-estimator-id-46\" class=\"sk-toggleable__label sk-toggleable__label-arrow\">num</label><div class=\"sk-toggleable__content\"><pre>[&#x27;GP&#x27;, &#x27;Min_per&#x27;, &#x27;Ortg&#x27;, &#x27;usg&#x27;, &#x27;eFG&#x27;, &#x27;TS_per&#x27;, &#x27;ORB_per&#x27;, &#x27;DRB_per&#x27;, &#x27;AST_per&#x27;, &#x27;TO_per&#x27;, &#x27;FTM&#x27;, &#x27;FTA&#x27;, &#x27;FT_per&#x27;, &#x27;twoPM&#x27;, &#x27;twoPA&#x27;, &#x27;twoP_per&#x27;, &#x27;TPM&#x27;, &#x27;TPA&#x27;, &#x27;TP_per&#x27;, &#x27;blk_per&#x27;, &#x27;stl_per&#x27;, &#x27;porpag&#x27;, &#x27;adjoe&#x27;, &#x27;Rec_Rank&#x27;, &#x27;ast_tov&#x27;, &#x27;rimmade&#x27;, &#x27;rimmade_rimmiss&#x27;, &#x27;midmade&#x27;, &#x27;midmade_midmiss&#x27;, &#x27;rim_ratio&#x27;, &#x27;mid_ratio&#x27;, &#x27;dunksmade&#x27;, &#x27;dunksmiss_dunksmade&#x27;, &#x27;dunks_ratio&#x27;, &#x27;pick&#x27;, &#x27;drtg&#x27;, &#x27;adrtg&#x27;, &#x27;dporpag&#x27;, &#x27;stops&#x27;, &#x27;bpm&#x27;, &#x27;obpm&#x27;, &#x27;dbpm&#x27;, &#x27;gbpm&#x27;, &#x27;mp&#x27;, &#x27;ogbpm&#x27;, &#x27;dgbpm&#x27;, &#x27;oreb&#x27;, &#x27;dreb&#x27;, &#x27;treb&#x27;, &#x27;ast&#x27;, &#x27;stl&#x27;, &#x27;blk&#x27;, &#x27;pts&#x27;]</pre></div></div></div><div class=\"sk-serial\"><div class=\"sk-item\"><div class=\"sk-serial\"><div class=\"sk-item\"><div class=\"sk-estimator sk-toggleable\"><input class=\"sk-toggleable__control sk-hidden--visually\" id=\"sk-estimator-id-47\" type=\"checkbox\" ><label for=\"sk-estimator-id-47\" class=\"sk-toggleable__label sk-toggleable__label-arrow\">StandardScaler</label><div class=\"sk-toggleable__content\"><pre>StandardScaler()</pre></div></div></div></div></div></div></div></div><div class=\"sk-parallel-item\"><div class=\"sk-item\"><div class=\"sk-label-container\"><div class=\"sk-label sk-toggleable\"><input class=\"sk-toggleable__control sk-hidden--visually\" id=\"sk-estimator-id-48\" type=\"checkbox\" ><label for=\"sk-estimator-id-48\" class=\"sk-toggleable__label sk-toggleable__label-arrow\">cat</label><div class=\"sk-toggleable__content\"><pre>[&#x27;team&#x27;, &#x27;conf&#x27;]</pre></div></div></div><div class=\"sk-serial\"><div class=\"sk-item\"><div class=\"sk-serial\"><div class=\"sk-item\"><div class=\"sk-estimator sk-toggleable\"><input class=\"sk-toggleable__control sk-hidden--visually\" id=\"sk-estimator-id-49\" type=\"checkbox\" ><label for=\"sk-estimator-id-49\" class=\"sk-toggleable__label sk-toggleable__label-arrow\">OneHotEncoder</label><div class=\"sk-toggleable__content\"><pre>OneHotEncoder(categories=[array([&#x27;Abilene Christian&#x27;, &#x27;Air Force&#x27;, &#x27;Akron&#x27;, &#x27;Alabama&#x27;,\n",
       "       &#x27;Alabama A&amp;M&#x27;, &#x27;Alabama St.&#x27;, &#x27;Albany&#x27;, &#x27;Alcorn St.&#x27;, &#x27;American&#x27;,\n",
       "       &#x27;Appalachian St.&#x27;, &#x27;Arizona&#x27;, &#x27;Arizona St.&#x27;, &#x27;Arkansas&#x27;,\n",
       "       &#x27;Arkansas Little Rock&#x27;, &#x27;Arkansas Pine Bluff&#x27;, &#x27;Arkansas St.&#x27;,\n",
       "       &#x27;Army&#x27;, &#x27;Auburn&#x27;, &#x27;Austin Peay&#x27;, &#x27;BYU&#x27;, &#x27;Ball St.&#x27;, &#x27;Baylor&#x27;,\n",
       "       &#x27;Belmont&#x27;, &#x27;Bethune Cookman&#x27;, &#x27;Binghamton&#x27;, &#x27;Boise St.&#x27;,...\n",
       "       &#x27;Wright St.&#x27;, &#x27;Wyoming&#x27;, &#x27;Xavier&#x27;, &#x27;Yale&#x27;, &#x27;Youngstown St.&#x27;],\n",
       "      dtype=object),\n",
       "                          array([&#x27;A10&#x27;, &#x27;ACC&#x27;, &#x27;AE&#x27;, &#x27;ASun&#x27;, &#x27;Amer&#x27;, &#x27;B10&#x27;, &#x27;B12&#x27;, &#x27;BE&#x27;, &#x27;BSky&#x27;,\n",
       "       &#x27;BSth&#x27;, &#x27;BW&#x27;, &#x27;CAA&#x27;, &#x27;CUSA&#x27;, &#x27;GWC&#x27;, &#x27;Horz&#x27;, &#x27;Ind&#x27;, &#x27;Ivy&#x27;, &#x27;MAAC&#x27;,\n",
       "       &#x27;MAC&#x27;, &#x27;MEAC&#x27;, &#x27;MVC&#x27;, &#x27;MWC&#x27;, &#x27;NEC&#x27;, &#x27;OVC&#x27;, &#x27;P10&#x27;, &#x27;P12&#x27;, &#x27;Pat&#x27;,\n",
       "       &#x27;SB&#x27;, &#x27;SC&#x27;, &#x27;SEC&#x27;, &#x27;SWAC&#x27;, &#x27;Slnd&#x27;, &#x27;Sum&#x27;, &#x27;WAC&#x27;, &#x27;WCC&#x27;, &#x27;ind&#x27;],\n",
       "      dtype=object)],\n",
       "              drop=&#x27;first&#x27;, handle_unknown=&#x27;ignore&#x27;, sparse_output=False)</pre></div></div></div></div></div></div></div></div></div></div><div class=\"sk-item\"><div class=\"sk-estimator sk-toggleable\"><input class=\"sk-toggleable__control sk-hidden--visually\" id=\"sk-estimator-id-50\" type=\"checkbox\" ><label for=\"sk-estimator-id-50\" class=\"sk-toggleable__label sk-toggleable__label-arrow\">SMOTE</label><div class=\"sk-toggleable__content\"><pre>SMOTE()</pre></div></div></div><div class=\"sk-item sk-dashed-wrapped\"><div class=\"sk-label-container\"><div class=\"sk-label sk-toggleable\"><input class=\"sk-toggleable__control sk-hidden--visually\" id=\"sk-estimator-id-51\" type=\"checkbox\" ><label for=\"sk-estimator-id-51\" class=\"sk-toggleable__label sk-toggleable__label-arrow\">gridsearch: GridSearchCV</label><div class=\"sk-toggleable__content\"><pre>GridSearchCV(cv=2,\n",
       "             estimator=AdaBoostClassifier(n_estimators=100, random_state=0),\n",
       "             param_grid={&#x27;learning_rate&#x27;: [0.5, 1, 2],\n",
       "                         &#x27;n_estimators&#x27;: [100, 200]},\n",
       "             scoring=&#x27;roc_auc&#x27;, verbose=True)</pre></div></div></div><div class=\"sk-parallel\"><div class=\"sk-parallel-item\"><div class=\"sk-item\"><div class=\"sk-label-container\"><div class=\"sk-label sk-toggleable\"><input class=\"sk-toggleable__control sk-hidden--visually\" id=\"sk-estimator-id-52\" type=\"checkbox\" ><label for=\"sk-estimator-id-52\" class=\"sk-toggleable__label sk-toggleable__label-arrow\">estimator: AdaBoostClassifier</label><div class=\"sk-toggleable__content\"><pre>AdaBoostClassifier(n_estimators=100, random_state=0)</pre></div></div></div><div class=\"sk-serial\"><div class=\"sk-item\"><div class=\"sk-estimator sk-toggleable\"><input class=\"sk-toggleable__control sk-hidden--visually\" id=\"sk-estimator-id-53\" type=\"checkbox\" ><label for=\"sk-estimator-id-53\" class=\"sk-toggleable__label sk-toggleable__label-arrow\">AdaBoostClassifier</label><div class=\"sk-toggleable__content\"><pre>AdaBoostClassifier(n_estimators=100, random_state=0)</pre></div></div></div></div></div></div></div></div></div></div></div></div>"
      ],
      "text/plain": [
       "Pipeline(steps=[('preprocessor',\n",
       "                 ColumnTransformer(transformers=[('num',\n",
       "                                                  Pipeline(steps=[('scaler',\n",
       "                                                                   StandardScaler())]),\n",
       "                                                  ['GP', 'Min_per', 'Ortg',\n",
       "                                                   'usg', 'eFG', 'TS_per',\n",
       "                                                   'ORB_per', 'DRB_per',\n",
       "                                                   'AST_per', 'TO_per', 'FTM',\n",
       "                                                   'FTA', 'FT_per', 'twoPM',\n",
       "                                                   'twoPA', 'twoP_per', 'TPM',\n",
       "                                                   'TPA', 'TP_per', 'blk_per',\n",
       "                                                   'stl_per', 'porpag', 'adjoe',\n",
       "                                                   'Rec_Rank', 'ast_tov',\n",
       "                                                   'rimmade', 'rimmade_rimm...\n",
       "       'SB', 'SC', 'SEC', 'SWAC', 'Slnd', 'Sum', 'WAC', 'WCC', 'ind'],\n",
       "      dtype=object)],\n",
       "                                                                                 drop='first',\n",
       "                                                                                 handle_unknown='ignore',\n",
       "                                                                                 sparse_output=False))]),\n",
       "                                                  ['team', 'conf'])])),\n",
       "                ('smote', SMOTE()),\n",
       "                ('gridsearch',\n",
       "                 GridSearchCV(cv=2,\n",
       "                              estimator=AdaBoostClassifier(n_estimators=100,\n",
       "                                                           random_state=0),\n",
       "                              param_grid={'learning_rate': [0.5, 1, 2],\n",
       "                                          'n_estimators': [100, 200]},\n",
       "                              scoring='roc_auc', verbose=True))],\n",
       "         verbose=True)"
      ]
     },
     "execution_count": 84,
     "metadata": {},
     "output_type": "execute_result"
    }
   ],
   "source": [
    "## fit data against gridsearch\n",
    "model.fit(X_train, y_train)"
   ]
  },
  {
   "cell_type": "code",
   "execution_count": 85,
   "metadata": {},
   "outputs": [
    {
     "name": "stdout",
     "output_type": "stream",
     "text": [
      "{'learning_rate': 0.5, 'n_estimators': 200}\n",
      "0.9996099921997629\n"
     ]
    }
   ],
   "source": [
    "# Save model\n",
    "dump(model, '../models/model_4.joblib')\n",
    "\n",
    "print(model.named_steps['gridsearch'].best_params_)\n",
    "print(model.named_steps['gridsearch'].best_score_)"
   ]
  },
  {
   "cell_type": "code",
   "execution_count": 86,
   "metadata": {},
   "outputs": [
    {
     "data": {
      "text/html": [
       "<div>\n",
       "<style scoped>\n",
       "    .dataframe tbody tr th:only-of-type {\n",
       "        vertical-align: middle;\n",
       "    }\n",
       "\n",
       "    .dataframe tbody tr th {\n",
       "        vertical-align: top;\n",
       "    }\n",
       "\n",
       "    .dataframe thead th {\n",
       "        text-align: right;\n",
       "    }\n",
       "</style>\n",
       "<table border=\"1\" class=\"dataframe\">\n",
       "  <thead>\n",
       "    <tr style=\"text-align: right;\">\n",
       "      <th></th>\n",
       "      <th>params</th>\n",
       "      <th>rank_test_score</th>\n",
       "      <th>mean_test_score</th>\n",
       "      <th>std_test_score</th>\n",
       "    </tr>\n",
       "  </thead>\n",
       "  <tbody>\n",
       "    <tr>\n",
       "      <th>1</th>\n",
       "      <td>{'learning_rate': 0.5, 'n_estimators': 200}</td>\n",
       "      <td>1</td>\n",
       "      <td>0.999610</td>\n",
       "      <td>0.000111</td>\n",
       "    </tr>\n",
       "    <tr>\n",
       "      <th>3</th>\n",
       "      <td>{'learning_rate': 1, 'n_estimators': 200}</td>\n",
       "      <td>2</td>\n",
       "      <td>0.999551</td>\n",
       "      <td>0.000038</td>\n",
       "    </tr>\n",
       "    <tr>\n",
       "      <th>2</th>\n",
       "      <td>{'learning_rate': 1, 'n_estimators': 100}</td>\n",
       "      <td>3</td>\n",
       "      <td>0.999542</td>\n",
       "      <td>0.000099</td>\n",
       "    </tr>\n",
       "    <tr>\n",
       "      <th>0</th>\n",
       "      <td>{'learning_rate': 0.5, 'n_estimators': 100}</td>\n",
       "      <td>4</td>\n",
       "      <td>0.999488</td>\n",
       "      <td>0.000120</td>\n",
       "    </tr>\n",
       "    <tr>\n",
       "      <th>4</th>\n",
       "      <td>{'learning_rate': 2, 'n_estimators': 100}</td>\n",
       "      <td>5</td>\n",
       "      <td>0.995200</td>\n",
       "      <td>0.000809</td>\n",
       "    </tr>\n",
       "    <tr>\n",
       "      <th>5</th>\n",
       "      <td>{'learning_rate': 2, 'n_estimators': 200}</td>\n",
       "      <td>6</td>\n",
       "      <td>0.995048</td>\n",
       "      <td>0.000789</td>\n",
       "    </tr>\n",
       "  </tbody>\n",
       "</table>\n",
       "</div>"
      ],
      "text/plain": [
       "                                        params  rank_test_score  \\\n",
       "1  {'learning_rate': 0.5, 'n_estimators': 200}                1   \n",
       "3    {'learning_rate': 1, 'n_estimators': 200}                2   \n",
       "2    {'learning_rate': 1, 'n_estimators': 100}                3   \n",
       "0  {'learning_rate': 0.5, 'n_estimators': 100}                4   \n",
       "4    {'learning_rate': 2, 'n_estimators': 100}                5   \n",
       "5    {'learning_rate': 2, 'n_estimators': 200}                6   \n",
       "\n",
       "   mean_test_score  std_test_score  \n",
       "1         0.999610        0.000111  \n",
       "3         0.999551        0.000038  \n",
       "2         0.999542        0.000099  \n",
       "0         0.999488        0.000120  \n",
       "4         0.995200        0.000809  \n",
       "5         0.995048        0.000789  "
      ]
     },
     "execution_count": 86,
     "metadata": {},
     "output_type": "execute_result"
    }
   ],
   "source": [
    "results_df = pd.DataFrame(model.named_steps['gridsearch'].cv_results_)\n",
    "results_df = results_df.sort_values(by=[\"rank_test_score\"])\n",
    "results_df[[\"params\", \"rank_test_score\", \"mean_test_score\", \"std_test_score\"]]"
   ]
  },
  {
   "cell_type": "markdown",
   "metadata": {},
   "source": [
    "#### Model Analysis:\n",
    "\n",
    "Using GridSearch best result hyperparameters:\n",
    "\n",
    "1) Predict target on test set.\n",
    "2) Generate confusion matrix\n",
    "3) Generate AUROC score and ROC curve"
   ]
  },
  {
   "cell_type": "code",
   "execution_count": 87,
   "metadata": {},
   "outputs": [],
   "source": [
    "## Predict on test set\n",
    "y_pred = model.predict(X_test)\n",
    "y_pred_proba = model.predict_proba(X_test)[:,1]\n"
   ]
  },
  {
   "cell_type": "code",
   "execution_count": 88,
   "metadata": {},
   "outputs": [
    {
     "data": {
      "text/plain": [
       "Text(0.5, 23.52222222222222, 'Predicted label')"
      ]
     },
     "execution_count": 88,
     "metadata": {},
     "output_type": "execute_result"
    },
    {
     "data": {
      "image/png": "[encoded data removed]",
      "text/plain": [
       "<Figure size 640x480 with 2 Axes>"
      ]
     },
     "metadata": {},
     "output_type": "display_data"
    }
   ],
   "source": [
    "## Confusion Matrix\n",
    "cf_matrix = confusion_matrix(y_true=y_test, y_pred=y_pred)\n",
    "\n",
    "sb.heatmap(pd.DataFrame(cf_matrix), annot=True, cmap=\"YlGnBu\" ,fmt='g')\n",
    "plt.title('Confusion matrix', y=1.1)\n",
    "plt.ylabel('Actual label')\n",
    "plt.xlabel('Predicted label')"
   ]
  },
  {
   "cell_type": "code",
   "execution_count": 91,
   "metadata": {},
   "outputs": [
    {
     "name": "stdout",
     "output_type": "stream",
     "text": [
      "AUROC score:  0.997238306849807\n"
     ]
    }
   ],
   "source": [
    "## Calculate AUROC\n",
    "\n",
    "auroc = roc_auc_score(y_test, y_pred_proba)\n",
    "print(\"AUROC score: \", auroc)"
   ]
  },
  {
   "cell_type": "code",
   "execution_count": 92,
   "metadata": {},
   "outputs": [
    {
     "data": {
      "image/png": "[encoded data removed]",
      "text/plain": [
       "<Figure size 640x480 with 1 Axes>"
      ]
     },
     "metadata": {},
     "output_type": "display_data"
    }
   ],
   "source": [
    "fpr, tpr, _ = roc_curve(y_test,  y_pred_proba)\n",
    "## ROC Curve\n",
    "\n",
    "plt.plot(fpr, tpr, label=\"AUC=\"+str(auroc))\n",
    "plt.ylabel('True Positive Rate')\n",
    "plt.xlabel('False Positive Rate')\n",
    "plt.legend(loc=4)\n",
    "plt.show()"
   ]
  },
  {
   "cell_type": "markdown",
   "metadata": {},
   "source": [
    "#### Predict Target Classification on test data\n",
    "\n",
    "1) Predict target\n",
    "2) Save Target as Submission\n",
    "3) Save model files"
   ]
  },
  {
   "cell_type": "code",
   "execution_count": 42,
   "metadata": {},
   "outputs": [],
   "source": [
    "## Preprocessing and Fitting against pipeline\n",
    "## pop targets and player num\n",
    "test_ids = test_df.pop('player_id').to_frame()\n",
    "\n",
    "## preprocessing steps\n",
    "test_clean = remove_unwanted_cols(test_df)\n",
    "test_clean = fillna(test_clean)"
   ]
  },
  {
   "cell_type": "code",
   "execution_count": 39,
   "metadata": {},
   "outputs": [
    {
     "name": "stderr",
     "output_type": "stream",
     "text": [
      "c:\\Users\\Ivan\\AppData\\Local\\Programs\\Python\\Python311\\Lib\\site-packages\\sklearn\\preprocessing\\_encoders.py:227: UserWarning: Found unknown categories in columns [0] during transform. These unknown categories will be encoded as all zeros\n",
      "  warnings.warn(\n"
     ]
    }
   ],
   "source": [
    "# Apply to the pipeline and predict\n",
    "test_pred = clf.predict_proba(test_clean)\n",
    "\n",
    "# Round predicted values to 2 decimal places\n",
    "test_pred_drafted = np.round(test_pred[:, 1], 2)\n",
    "\n",
    "## Attach predictions to player_ids\n",
    "test_ids['drafted'] = test_pred_drafted"
   ]
  },
  {
   "cell_type": "code",
   "execution_count": 40,
   "metadata": {},
   "outputs": [],
   "source": [
    "# Save to submission file\n",
    "test_ids.to_csv('../data/processed/submission.csv', index=False)"
   ]
  },
  {
   "cell_type": "code",
   "execution_count": null,
   "metadata": {},
   "outputs": [],
   "source": [
    "## Save processed files\n",
    "X_train.tofile('../data/processed/X_train.csv')\n",
    "X_test.tofile('../data/processed/X_test.csv')\n",
    "y_train.to_csv('../data/processed/y_train.csv', index=False)\n",
    "y_test.to_csv('../data/processed/y_test.csv', index=False)\n",
    "\n",
    "# Save model\n",
    "dump(clf, '../models/logistic_regression_2.joblib')"
   ]
  }
 ],
 "metadata": {
  "kernelspec": {
   "display_name": "Python 3",
   "language": "python",
   "name": "python3"
  },
  "language_info": {
   "codemirror_mode": {
    "name": "ipython",
    "version": 3
   },
   "file_extension": ".py",
   "mimetype": "text/x-python",
   "name": "python",
   "nbconvert_exporter": "python",
   "pygments_lexer": "ipython3",
   "version": "3.11.5"
  },
  "orig_nbformat": 4
 },
 "nbformat": 4,
 "nbformat_minor": 2
}
