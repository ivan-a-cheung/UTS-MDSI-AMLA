{
 "cells": [
  {
   "cell_type": "markdown",
   "metadata": {},
   "source": [
    "### MDSI Advanced Machine Learning Applications\n",
    "\n",
    "Student: Ivan Cheung\n",
    "\n",
    "Assignment: Kaggle 1\n",
    "\n",
    "\n",
    "GitHub repo: https://github.com/ivanutsmdsi/amla2023"
   ]
  },
  {
   "cell_type": "code",
   "execution_count": 4,
   "metadata": {},
   "outputs": [],
   "source": [
    "import pandas as pd\n",
    "import numpy as np\n",
    "from sklearn.datasets import make_classification, load_breast_cancer\n",
    "from collections import Counter\n",
    "from sklearn.linear_model import LogisticRegression\n",
    "from sklearn.preprocessing import StandardScaler, OneHotEncoder   ## for normalising the feature data\n",
    "from sklearn.model_selection import train_test_split              ## making test/train splits, for producing AUROC score?\n",
    "from sklearn.metrics import confusion_matrix\n",
    "import matplotlib.pyplot as pyplot\n",
    "from joblib import dump\n"
   ]
  },
  {
   "cell_type": "code",
   "execution_count": 6,
   "metadata": {},
   "outputs": [],
   "source": [
    "import imblearn"
   ]
  },
  {
   "cell_type": "code",
   "execution_count": 7,
   "metadata": {},
   "outputs": [],
   "source": [
    "## Load raw data into dataframe\n",
    "df = pd.read_csv('../data/raw/train.csv', low_memory=False)"
   ]
  },
  {
   "cell_type": "code",
   "execution_count": 9,
   "metadata": {},
   "outputs": [],
   "source": [
    "## PREPROCESSING FUNCTIONS\n",
    "\n",
    "## create a function to remove the corrupt columns and return a clean df\n",
    "def remove_unwanted_cols(df):\n",
    "    # ftr - no description given, removed from feature analysis\n",
    "    # yr - player year details are descriptive, need to vectorise in future modelling\n",
    "    # ht - player height data has been corrupted\n",
    "    # num - payer number not relevant as a feature\n",
    "    # pfr - no description given, removed from feature analysis\n",
    "    # type - metadata field not relevant as a feature\n",
    "    # year - no longitudinal inclusion for feature modeling\n",
    "\n",
    "    df_clean = df.drop([\"ht\", \"yr\", \"num\", \"type\" ,\"year\", \"ftr\", \"pfr\"], axis = 1)    \n",
    "    ##df_clean = df.drop([\"team\", \"conf\", \"ht\", \"yr\", \"num\", \"type\" ,\"year\", \"ftr\", \"pfr\"], axis = 1)\n",
    "\n",
    "    return df_clean\n",
    "\n",
    "## fill null values with 0\n",
    "## TO IMPROVE: not all columns should be filled with 0. Will need to reveiw this moving forward...\n",
    "def fillna(df):\n",
    "    df_clean = df.fillna(0)\n",
    "\n",
    "    return df_clean\n"
   ]
  },
  {
   "cell_type": "code",
   "execution_count": 41,
   "metadata": {},
   "outputs": [],
   "source": [
    "## Create Standard Scalar and save to models\n",
    "def scaler(df, num_cols):\n",
    "    scaler = StandardScaler()\n",
    "    features_df = pd.DataFrame(scaler.fit_transform(df[num_cols]), columns = num_cols)\n",
    "    dump(scaler, '../models/scaler.joblib')\n",
    "    return features_df\n",
    "\n",
    "## Create OHE and save to models\n",
    "def OneHotEncode(df, cat_cols):\n",
    "    ohe = OneHotEncoder(sparse_output=False, drop='first')\n",
    "    features = ohe.fit_transform(df[cat_cols])\n",
    "    features_df = pd.DataFrame(features, columns=ohe.get_feature_names_out())\n",
    "\n",
    "    dump(ohe, '../models/ohe.joblib')\n",
    "    return features_df\n"
   ]
  },
  {
   "cell_type": "code",
   "execution_count": 28,
   "metadata": {},
   "outputs": [],
   "source": [
    "## Preprocessing dataframe \n",
    "\n",
    "# remove unwanted columns, previously identified as corrupt\n",
    "df_clean = remove_unwanted_cols(df)\n",
    "\n",
    "# apply placeholder values for nulls\n",
    "df_clean = fillna(df_clean)\n"
   ]
  },
  {
   "cell_type": "code",
   "execution_count": 29,
   "metadata": {},
   "outputs": [],
   "source": [
    "## pop columns into separate lists\n",
    "target = df_clean.pop('drafted')\n",
    "player_ids = df_clean.pop('player_id')"
   ]
  },
  {
   "cell_type": "code",
   "execution_count": 50,
   "metadata": {},
   "outputs": [],
   "source": [
    "## Apply Standard Scalar and OHE (for team name and conference name)\n",
    "## define the numeric cols and the category cols from the df_clean dataset\n",
    "num_cols = list(df_clean.select_dtypes('number').columns)\n",
    "cat_cols = list(set(df_clean.columns) - set(num_cols))\n",
    "\n",
    "# apply Scalar, save to placeholder\n",
    "scaler_df = scaler(df_clean, num_cols)\n",
    "\n",
    "# apply ohe, save to placeholder\n",
    "ohe_df = OneHotEncode(df_clean, cat_cols)\n",
    "\n",
    "# merge the two placeholder dfs together into one DF\n",
    "df_clean = pd.concat([scaler_df, ohe_df], axis = 1)\n",
    "\n",
    "# clean up placeholder variables from memory\n",
    "del scaler_df\n",
    "del ohe_df"
   ]
  },
  {
   "cell_type": "code",
   "execution_count": 49,
   "metadata": {},
   "outputs": [],
   "source": [
    "\n"
   ]
  },
  {
   "cell_type": "code",
   "execution_count": 10,
   "metadata": {},
   "outputs": [
    {
     "name": "stdout",
     "output_type": "stream",
     "text": [
      "<class 'pandas.core.frame.DataFrame'>\n",
      "RangeIndex: 56091 entries, 0 to 56090\n",
      "Data columns (total 64 columns):\n",
      " #   Column               Non-Null Count  Dtype  \n",
      "---  ------               --------------  -----  \n",
      " 0   team                 56091 non-null  object \n",
      " 1   conf                 56091 non-null  object \n",
      " 2   GP                   56091 non-null  int64  \n",
      " 3   Min_per              56091 non-null  float64\n",
      " 4   Ortg                 56091 non-null  float64\n",
      " 5   usg                  56091 non-null  float64\n",
      " 6   eFG                  56091 non-null  float64\n",
      " 7   TS_per               56091 non-null  float64\n",
      " 8   ORB_per              56091 non-null  float64\n",
      " 9   DRB_per              56091 non-null  float64\n",
      " 10  AST_per              56091 non-null  float64\n",
      " 11  TO_per               56091 non-null  float64\n",
      " 12  FTM                  56091 non-null  int64  \n",
      " 13  FTA                  56091 non-null  int64  \n",
      " 14  FT_per               56091 non-null  float64\n",
      " 15  twoPM                56091 non-null  int64  \n",
      " 16  twoPA                56091 non-null  int64  \n",
      " 17  twoP_per             56091 non-null  float64\n",
      " 18  TPM                  56091 non-null  int64  \n",
      " 19  TPA                  56091 non-null  int64  \n",
      " 20  TP_per               56091 non-null  float64\n",
      " 21  blk_per              56091 non-null  float64\n",
      " 22  stl_per              56091 non-null  float64\n",
      " 23  ftr                  56091 non-null  float64\n",
      " 24  yr                   55799 non-null  object \n",
      " 25  ht                   55993 non-null  object \n",
      " 26  num                  51401 non-null  object \n",
      " 27  porpag               56091 non-null  float64\n",
      " 28  adjoe                56091 non-null  float64\n",
      " 29  pfr                  56091 non-null  float64\n",
      " 30  year                 56091 non-null  int64  \n",
      " 31  type                 56091 non-null  object \n",
      " 32  Rec_Rank             17036 non-null  float64\n",
      " 33  ast_tov              51901 non-null  float64\n",
      " 34  rimmade              50010 non-null  float64\n",
      " 35  rimmade_rimmiss      50010 non-null  float64\n",
      " 36  midmade              50010 non-null  float64\n",
      " 37  midmade_midmiss      50010 non-null  float64\n",
      " 38  rim_ratio            46627 non-null  float64\n",
      " 39  mid_ratio            46403 non-null  float64\n",
      " 40  dunksmade            50010 non-null  float64\n",
      " 41  dunksmiss_dunksmade  50010 non-null  float64\n",
      " 42  dunks_ratio          25298 non-null  float64\n",
      " 43  pick                 1386 non-null   float64\n",
      " 44  drtg                 56047 non-null  float64\n",
      " 45  adrtg                56047 non-null  float64\n",
      " 46  dporpag              56047 non-null  float64\n",
      " 47  stops                56047 non-null  float64\n",
      " 48  bpm                  56047 non-null  float64\n",
      " 49  obpm                 56047 non-null  float64\n",
      " 50  dbpm                 56047 non-null  float64\n",
      " 51  gbpm                 56047 non-null  float64\n",
      " 52  mp                   56053 non-null  float64\n",
      " 53  ogbpm                56047 non-null  float64\n",
      " 54  dgbpm                56047 non-null  float64\n",
      " 55  oreb                 56053 non-null  float64\n",
      " 56  dreb                 56053 non-null  float64\n",
      " 57  treb                 56053 non-null  float64\n",
      " 58  ast                  56053 non-null  float64\n",
      " 59  stl                  56053 non-null  float64\n",
      " 60  blk                  56053 non-null  float64\n",
      " 61  pts                  56053 non-null  float64\n",
      " 62  player_id            56091 non-null  object \n",
      " 63  drafted              56091 non-null  float64\n",
      "dtypes: float64(49), int64(8), object(7)\n",
      "memory usage: 27.4+ MB\n"
     ]
    }
   ],
   "source": [
    "df.info()"
   ]
  },
  {
   "cell_type": "code",
   "execution_count": 23,
   "metadata": {},
   "outputs": [],
   "source": []
  },
  {
   "cell_type": "code",
   "execution_count": 20,
   "metadata": {},
   "outputs": [
    {
     "data": {
      "text/plain": [
       "['GP',\n",
       " 'Min_per',\n",
       " 'Ortg',\n",
       " 'usg',\n",
       " 'eFG',\n",
       " 'TS_per',\n",
       " 'ORB_per',\n",
       " 'DRB_per',\n",
       " 'AST_per',\n",
       " 'TO_per',\n",
       " 'FTM',\n",
       " 'FTA',\n",
       " 'FT_per',\n",
       " 'twoPM',\n",
       " 'twoPA',\n",
       " 'twoP_per',\n",
       " 'TPM',\n",
       " 'TPA',\n",
       " 'TP_per',\n",
       " 'blk_per',\n",
       " 'stl_per',\n",
       " 'porpag',\n",
       " 'adjoe',\n",
       " 'Rec_Rank',\n",
       " 'ast_tov',\n",
       " 'rimmade',\n",
       " 'rimmade_rimmiss',\n",
       " 'midmade',\n",
       " 'midmade_midmiss',\n",
       " 'rim_ratio',\n",
       " 'mid_ratio',\n",
       " 'dunksmade',\n",
       " 'dunksmiss_dunksmade',\n",
       " 'dunks_ratio',\n",
       " 'pick',\n",
       " 'drtg',\n",
       " 'adrtg',\n",
       " 'dporpag',\n",
       " 'stops',\n",
       " 'bpm',\n",
       " 'obpm',\n",
       " 'dbpm',\n",
       " 'gbpm',\n",
       " 'mp',\n",
       " 'ogbpm',\n",
       " 'dgbpm',\n",
       " 'oreb',\n",
       " 'dreb',\n",
       " 'treb',\n",
       " 'ast',\n",
       " 'stl',\n",
       " 'blk',\n",
       " 'pts',\n",
       " 'drafted']"
      ]
     },
     "execution_count": 20,
     "metadata": {},
     "output_type": "execute_result"
    }
   ],
   "source": [
    "num_cols"
   ]
  },
  {
   "cell_type": "code",
   "execution_count": 24,
   "metadata": {},
   "outputs": [
    {
     "data": {
      "text/plain": [
       "['team', 'conf']"
      ]
     },
     "execution_count": 24,
     "metadata": {},
     "output_type": "execute_result"
    }
   ],
   "source": [
    "cat_cols"
   ]
  }
 ],
 "metadata": {
  "kernelspec": {
   "display_name": "Python 3",
   "language": "python",
   "name": "python3"
  },
  "language_info": {
   "codemirror_mode": {
    "name": "ipython",
    "version": 3
   },
   "file_extension": ".py",
   "mimetype": "text/x-python",
   "name": "python",
   "nbconvert_exporter": "python",
   "pygments_lexer": "ipython3",
   "version": "3.11.5"
  },
  "orig_nbformat": 4
 },
 "nbformat": 4,
 "nbformat_minor": 2
}
