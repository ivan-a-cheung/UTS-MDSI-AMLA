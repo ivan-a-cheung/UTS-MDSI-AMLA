{
 "cells": [
  {
   "cell_type": "markdown",
   "metadata": {},
   "source": [
    "### MDSI Advanced Machine Learning Applications\n",
    "\n",
    "Student: Ivan Cheung\n",
    "\n",
    "Assignment: Kaggle 1\n",
    "\n",
    "\n",
    "GitHub repo: https://github.com/ivanutsmdsi/amla2023"
   ]
  },
  {
   "cell_type": "code",
   "execution_count": 91,
   "metadata": {},
   "outputs": [],
   "source": [
    "import pandas as pd\n",
    "import numpy as np\n",
    "from sklearn.datasets import make_classification, load_breast_cancer\n",
    "from collections import Counter\n",
    "from sklearn.linear_model import LogisticRegression\n",
    "from sklearn.preprocessing import StandardScaler, OneHotEncoder   ## for normalising the feature data\n",
    "from sklearn.model_selection import train_test_split              ## making test/train splits, for producing AUROC score?\n",
    "from sklearn.metrics import confusion_matrix\n",
    "import matplotlib.pyplot as plt\n",
    "from joblib import dump\n",
    "from imblearn.over_sampling import SMOTE\n",
    "\n",
    "from sklearn.compose import ColumnTransformer\n",
    "from sklearn.pipeline import Pipeline\n",
    "from imblearn.pipeline import Pipeline as imbpipeline\n",
    "import seaborn as sb"
   ]
  },
  {
   "cell_type": "code",
   "execution_count": 100,
   "metadata": {},
   "outputs": [],
   "source": [
    "## Load raw data into dataframe\n",
    "df = pd.read_csv('../data/raw/train.csv', low_memory=False)"
   ]
  },
  {
   "cell_type": "code",
   "execution_count": 9,
   "metadata": {},
   "outputs": [],
   "source": [
    "## PREPROCESSING FUNCTIONS\n",
    "\n",
    "## create a function to remove the corrupt columns and return a clean df\n",
    "def remove_unwanted_cols(df):\n",
    "    # ftr - no description given, removed from feature analysis\n",
    "    # yr - player year details are descriptive, need to vectorise in future modelling\n",
    "    # ht - player height data has been corrupted\n",
    "    # num - payer number not relevant as a feature\n",
    "    # pfr - no description given, removed from feature analysis\n",
    "    # type - metadata field not relevant as a feature\n",
    "    # year - no longitudinal inclusion for feature modeling\n",
    "\n",
    "    df_clean = df.drop([\"ht\", \"yr\", \"num\", \"type\" ,\"year\", \"ftr\", \"pfr\"], axis = 1)    \n",
    "    ##df_clean = df.drop([\"team\", \"conf\", \"ht\", \"yr\", \"num\", \"type\" ,\"year\", \"ftr\", \"pfr\"], axis = 1)\n",
    "\n",
    "    return df_clean\n",
    "\n",
    "## fill null values with 0\n",
    "## TO IMPROVE: not all columns should be filled with 0. Will need to reveiw this moving forward...\n",
    "def fillna(df):\n",
    "    df_clean = df.fillna(0)\n",
    "\n",
    "    return df_clean\n"
   ]
  },
  {
   "cell_type": "code",
   "execution_count": 145,
   "metadata": {},
   "outputs": [],
   "source": [
    "## Preprocessing dataframe \n",
    "\n",
    "# remove unwanted columns, previously identified as corrupt\n",
    "df_clean = remove_unwanted_cols(df)\n",
    "\n",
    "# apply placeholder values for nulls\n",
    "df_clean = fillna(df_clean)\n"
   ]
  },
  {
   "cell_type": "code",
   "execution_count": 146,
   "metadata": {},
   "outputs": [],
   "source": [
    "## pop columns into separate lists\n",
    "target = df_clean.pop('drafted')\n",
    "player_ids = df_clean.pop('player_id')"
   ]
  },
  {
   "cell_type": "code",
   "execution_count": 104,
   "metadata": {},
   "outputs": [],
   "source": [
    "## Apply Standard Scalar and OHE (for team name and conference name)\n",
    "## define the numeric cols and the category cols from the df_clean dataset\n",
    "num_cols = list(df_clean.select_dtypes('number').columns)\n",
    "cat_cols = list(set(df_clean.columns) - set(num_cols))\n"
   ]
  },
  {
   "cell_type": "code",
   "execution_count": 120,
   "metadata": {},
   "outputs": [],
   "source": [
    "ohe = OneHotEncoder(sparse_output=False, drop='first')\n",
    "features = ohe.fit_transform(df_clean[cat_cols])\n",
    "\n",
    "## extract the cat attributes (the team names and conference names) from the training data\n",
    "attribute_cats = ohe.categories_"
   ]
  },
  {
   "cell_type": "code",
   "execution_count": 123,
   "metadata": {},
   "outputs": [],
   "source": [
    "numeric_transformer = Pipeline(steps= [(\"scaler\", StandardScaler())])\n",
    "categorical_transformer = Pipeline(steps= [(\"encoder\", OneHotEncoder(sparse_output=False, drop='first', categories = attribute_cats,handle_unknown='ignore'))])\n",
    "\n",
    "preprocessor = ColumnTransformer(\n",
    "    transformers=[\n",
    "        (\"num\", numeric_transformer, num_cols),\n",
    "        (\"cat\", categorical_transformer, cat_cols),\n",
    "    ]\n",
    ")"
   ]
  },
  {
   "cell_type": "code",
   "execution_count": 124,
   "metadata": {},
   "outputs": [],
   "source": [
    "clf = imbpipeline(\n",
    "    steps=[(\"preprocessor\", preprocessor), (\"smote\", SMOTE()) , (\"classifier\", LogisticRegression(max_iter=1000))]\n",
    ")"
   ]
  },
  {
   "cell_type": "code",
   "execution_count": 131,
   "metadata": {},
   "outputs": [
    {
     "data": {
      "text/html": [
       "<style>#sk-container-id-7 {color: black;}#sk-container-id-7 pre{padding: 0;}#sk-container-id-7 div.sk-toggleable {background-color: white;}#sk-container-id-7 label.sk-toggleable__label {cursor: pointer;display: block;width: 100%;margin-bottom: 0;padding: 0.3em;box-sizing: border-box;text-align: center;}#sk-container-id-7 label.sk-toggleable__label-arrow:before {content: \"▸\";float: left;margin-right: 0.25em;color: #696969;}#sk-container-id-7 label.sk-toggleable__label-arrow:hover:before {color: black;}#sk-container-id-7 div.sk-estimator:hover label.sk-toggleable__label-arrow:before {color: black;}#sk-container-id-7 div.sk-toggleable__content {max-height: 0;max-width: 0;overflow: hidden;text-align: left;background-color: #f0f8ff;}#sk-container-id-7 div.sk-toggleable__content pre {margin: 0.2em;color: black;border-radius: 0.25em;background-color: #f0f8ff;}#sk-container-id-7 input.sk-toggleable__control:checked~div.sk-toggleable__content {max-height: 200px;max-width: 100%;overflow: auto;}#sk-container-id-7 input.sk-toggleable__control:checked~label.sk-toggleable__label-arrow:before {content: \"▾\";}#sk-container-id-7 div.sk-estimator input.sk-toggleable__control:checked~label.sk-toggleable__label {background-color: #d4ebff;}#sk-container-id-7 div.sk-label input.sk-toggleable__control:checked~label.sk-toggleable__label {background-color: #d4ebff;}#sk-container-id-7 input.sk-hidden--visually {border: 0;clip: rect(1px 1px 1px 1px);clip: rect(1px, 1px, 1px, 1px);height: 1px;margin: -1px;overflow: hidden;padding: 0;position: absolute;width: 1px;}#sk-container-id-7 div.sk-estimator {font-family: monospace;background-color: #f0f8ff;border: 1px dotted black;border-radius: 0.25em;box-sizing: border-box;margin-bottom: 0.5em;}#sk-container-id-7 div.sk-estimator:hover {background-color: #d4ebff;}#sk-container-id-7 div.sk-parallel-item::after {content: \"\";width: 100%;border-bottom: 1px solid gray;flex-grow: 1;}#sk-container-id-7 div.sk-label:hover label.sk-toggleable__label {background-color: #d4ebff;}#sk-container-id-7 div.sk-serial::before {content: \"\";position: absolute;border-left: 1px solid gray;box-sizing: border-box;top: 0;bottom: 0;left: 50%;z-index: 0;}#sk-container-id-7 div.sk-serial {display: flex;flex-direction: column;align-items: center;background-color: white;padding-right: 0.2em;padding-left: 0.2em;position: relative;}#sk-container-id-7 div.sk-item {position: relative;z-index: 1;}#sk-container-id-7 div.sk-parallel {display: flex;align-items: stretch;justify-content: center;background-color: white;position: relative;}#sk-container-id-7 div.sk-item::before, #sk-container-id-7 div.sk-parallel-item::before {content: \"\";position: absolute;border-left: 1px solid gray;box-sizing: border-box;top: 0;bottom: 0;left: 50%;z-index: -1;}#sk-container-id-7 div.sk-parallel-item {display: flex;flex-direction: column;z-index: 1;position: relative;background-color: white;}#sk-container-id-7 div.sk-parallel-item:first-child::after {align-self: flex-end;width: 50%;}#sk-container-id-7 div.sk-parallel-item:last-child::after {align-self: flex-start;width: 50%;}#sk-container-id-7 div.sk-parallel-item:only-child::after {width: 0;}#sk-container-id-7 div.sk-dashed-wrapped {border: 1px dashed gray;margin: 0 0.4em 0.5em 0.4em;box-sizing: border-box;padding-bottom: 0.4em;background-color: white;}#sk-container-id-7 div.sk-label label {font-family: monospace;font-weight: bold;display: inline-block;line-height: 1.2em;}#sk-container-id-7 div.sk-label-container {text-align: center;}#sk-container-id-7 div.sk-container {/* jupyter's `normalize.less` sets `[hidden] { display: none; }` but bootstrap.min.css set `[hidden] { display: none !important; }` so we also need the `!important` here to be able to override the default hidden behavior on the sphinx rendered scikit-learn.org. See: https://github.com/scikit-learn/scikit-learn/issues/21755 */display: inline-block !important;position: relative;}#sk-container-id-7 div.sk-text-repr-fallback {display: none;}</style><div id=\"sk-container-id-7\" class=\"sk-top-container\"><div class=\"sk-text-repr-fallback\"><pre>Pipeline(steps=[(&#x27;preprocessor&#x27;,\n",
       "                 ColumnTransformer(transformers=[(&#x27;num&#x27;,\n",
       "                                                  Pipeline(steps=[(&#x27;scaler&#x27;,\n",
       "                                                                   StandardScaler())]),\n",
       "                                                  [&#x27;GP&#x27;, &#x27;Min_per&#x27;, &#x27;Ortg&#x27;,\n",
       "                                                   &#x27;usg&#x27;, &#x27;eFG&#x27;, &#x27;TS_per&#x27;,\n",
       "                                                   &#x27;ORB_per&#x27;, &#x27;DRB_per&#x27;,\n",
       "                                                   &#x27;AST_per&#x27;, &#x27;TO_per&#x27;, &#x27;FTM&#x27;,\n",
       "                                                   &#x27;FTA&#x27;, &#x27;FT_per&#x27;, &#x27;twoPM&#x27;,\n",
       "                                                   &#x27;twoPA&#x27;, &#x27;twoP_per&#x27;, &#x27;TPM&#x27;,\n",
       "                                                   &#x27;TPA&#x27;, &#x27;TP_per&#x27;, &#x27;blk_per&#x27;,\n",
       "                                                   &#x27;stl_per&#x27;, &#x27;porpag&#x27;, &#x27;adjoe&#x27;,\n",
       "                                                   &#x27;Rec_Rank&#x27;, &#x27;ast_tov&#x27;,\n",
       "                                                   &#x27;rimmade&#x27;, &#x27;rimmade_rimm...\n",
       "                                                                                             array([&#x27;A10&#x27;, &#x27;ACC&#x27;, &#x27;AE&#x27;, &#x27;ASun&#x27;, &#x27;Amer&#x27;, &#x27;B10&#x27;, &#x27;B12&#x27;, &#x27;BE&#x27;, &#x27;BSky&#x27;,\n",
       "       &#x27;BSth&#x27;, &#x27;BW&#x27;, &#x27;CAA&#x27;, &#x27;CUSA&#x27;, &#x27;GWC&#x27;, &#x27;Horz&#x27;, &#x27;Ind&#x27;, &#x27;Ivy&#x27;, &#x27;MAAC&#x27;,\n",
       "       &#x27;MAC&#x27;, &#x27;MEAC&#x27;, &#x27;MVC&#x27;, &#x27;MWC&#x27;, &#x27;NEC&#x27;, &#x27;OVC&#x27;, &#x27;P10&#x27;, &#x27;P12&#x27;, &#x27;Pat&#x27;,\n",
       "       &#x27;SB&#x27;, &#x27;SC&#x27;, &#x27;SEC&#x27;, &#x27;SWAC&#x27;, &#x27;Slnd&#x27;, &#x27;Sum&#x27;, &#x27;WAC&#x27;, &#x27;WCC&#x27;, &#x27;ind&#x27;],\n",
       "      dtype=object)],\n",
       "                                                                                 drop=&#x27;first&#x27;,\n",
       "                                                                                 handle_unknown=&#x27;ignore&#x27;,\n",
       "                                                                                 sparse_output=False))]),\n",
       "                                                  [&#x27;team&#x27;, &#x27;conf&#x27;])])),\n",
       "                (&#x27;smote&#x27;, SMOTE()),\n",
       "                (&#x27;classifier&#x27;, LogisticRegression(max_iter=1000))])</pre><b>In a Jupyter environment, please rerun this cell to show the HTML representation or trust the notebook. <br />On GitHub, the HTML representation is unable to render, please try loading this page with nbviewer.org.</b></div><div class=\"sk-container\" hidden><div class=\"sk-item sk-dashed-wrapped\"><div class=\"sk-label-container\"><div class=\"sk-label sk-toggleable\"><input class=\"sk-toggleable__control sk-hidden--visually\" id=\"sk-estimator-id-41\" type=\"checkbox\" ><label for=\"sk-estimator-id-41\" class=\"sk-toggleable__label sk-toggleable__label-arrow\">Pipeline</label><div class=\"sk-toggleable__content\"><pre>Pipeline(steps=[(&#x27;preprocessor&#x27;,\n",
       "                 ColumnTransformer(transformers=[(&#x27;num&#x27;,\n",
       "                                                  Pipeline(steps=[(&#x27;scaler&#x27;,\n",
       "                                                                   StandardScaler())]),\n",
       "                                                  [&#x27;GP&#x27;, &#x27;Min_per&#x27;, &#x27;Ortg&#x27;,\n",
       "                                                   &#x27;usg&#x27;, &#x27;eFG&#x27;, &#x27;TS_per&#x27;,\n",
       "                                                   &#x27;ORB_per&#x27;, &#x27;DRB_per&#x27;,\n",
       "                                                   &#x27;AST_per&#x27;, &#x27;TO_per&#x27;, &#x27;FTM&#x27;,\n",
       "                                                   &#x27;FTA&#x27;, &#x27;FT_per&#x27;, &#x27;twoPM&#x27;,\n",
       "                                                   &#x27;twoPA&#x27;, &#x27;twoP_per&#x27;, &#x27;TPM&#x27;,\n",
       "                                                   &#x27;TPA&#x27;, &#x27;TP_per&#x27;, &#x27;blk_per&#x27;,\n",
       "                                                   &#x27;stl_per&#x27;, &#x27;porpag&#x27;, &#x27;adjoe&#x27;,\n",
       "                                                   &#x27;Rec_Rank&#x27;, &#x27;ast_tov&#x27;,\n",
       "                                                   &#x27;rimmade&#x27;, &#x27;rimmade_rimm...\n",
       "                                                                                             array([&#x27;A10&#x27;, &#x27;ACC&#x27;, &#x27;AE&#x27;, &#x27;ASun&#x27;, &#x27;Amer&#x27;, &#x27;B10&#x27;, &#x27;B12&#x27;, &#x27;BE&#x27;, &#x27;BSky&#x27;,\n",
       "       &#x27;BSth&#x27;, &#x27;BW&#x27;, &#x27;CAA&#x27;, &#x27;CUSA&#x27;, &#x27;GWC&#x27;, &#x27;Horz&#x27;, &#x27;Ind&#x27;, &#x27;Ivy&#x27;, &#x27;MAAC&#x27;,\n",
       "       &#x27;MAC&#x27;, &#x27;MEAC&#x27;, &#x27;MVC&#x27;, &#x27;MWC&#x27;, &#x27;NEC&#x27;, &#x27;OVC&#x27;, &#x27;P10&#x27;, &#x27;P12&#x27;, &#x27;Pat&#x27;,\n",
       "       &#x27;SB&#x27;, &#x27;SC&#x27;, &#x27;SEC&#x27;, &#x27;SWAC&#x27;, &#x27;Slnd&#x27;, &#x27;Sum&#x27;, &#x27;WAC&#x27;, &#x27;WCC&#x27;, &#x27;ind&#x27;],\n",
       "      dtype=object)],\n",
       "                                                                                 drop=&#x27;first&#x27;,\n",
       "                                                                                 handle_unknown=&#x27;ignore&#x27;,\n",
       "                                                                                 sparse_output=False))]),\n",
       "                                                  [&#x27;team&#x27;, &#x27;conf&#x27;])])),\n",
       "                (&#x27;smote&#x27;, SMOTE()),\n",
       "                (&#x27;classifier&#x27;, LogisticRegression(max_iter=1000))])</pre></div></div></div><div class=\"sk-serial\"><div class=\"sk-item sk-dashed-wrapped\"><div class=\"sk-label-container\"><div class=\"sk-label sk-toggleable\"><input class=\"sk-toggleable__control sk-hidden--visually\" id=\"sk-estimator-id-42\" type=\"checkbox\" ><label for=\"sk-estimator-id-42\" class=\"sk-toggleable__label sk-toggleable__label-arrow\">preprocessor: ColumnTransformer</label><div class=\"sk-toggleable__content\"><pre>ColumnTransformer(transformers=[(&#x27;num&#x27;,\n",
       "                                 Pipeline(steps=[(&#x27;scaler&#x27;, StandardScaler())]),\n",
       "                                 [&#x27;GP&#x27;, &#x27;Min_per&#x27;, &#x27;Ortg&#x27;, &#x27;usg&#x27;, &#x27;eFG&#x27;,\n",
       "                                  &#x27;TS_per&#x27;, &#x27;ORB_per&#x27;, &#x27;DRB_per&#x27;, &#x27;AST_per&#x27;,\n",
       "                                  &#x27;TO_per&#x27;, &#x27;FTM&#x27;, &#x27;FTA&#x27;, &#x27;FT_per&#x27;, &#x27;twoPM&#x27;,\n",
       "                                  &#x27;twoPA&#x27;, &#x27;twoP_per&#x27;, &#x27;TPM&#x27;, &#x27;TPA&#x27;, &#x27;TP_per&#x27;,\n",
       "                                  &#x27;blk_per&#x27;, &#x27;stl_per&#x27;, &#x27;porpag&#x27;, &#x27;adjoe&#x27;,\n",
       "                                  &#x27;Rec_Rank&#x27;, &#x27;ast_tov&#x27;, &#x27;rimmade&#x27;,\n",
       "                                  &#x27;rimmade_rimmiss&#x27;, &#x27;midmade&#x27;,\n",
       "                                  &#x27;midmade_midmiss&#x27;...\n",
       "       &#x27;Wright St.&#x27;, &#x27;Wyoming&#x27;, &#x27;Xavier&#x27;, &#x27;Yale&#x27;, &#x27;Youngstown St.&#x27;],\n",
       "      dtype=object),\n",
       "                                                                            array([&#x27;A10&#x27;, &#x27;ACC&#x27;, &#x27;AE&#x27;, &#x27;ASun&#x27;, &#x27;Amer&#x27;, &#x27;B10&#x27;, &#x27;B12&#x27;, &#x27;BE&#x27;, &#x27;BSky&#x27;,\n",
       "       &#x27;BSth&#x27;, &#x27;BW&#x27;, &#x27;CAA&#x27;, &#x27;CUSA&#x27;, &#x27;GWC&#x27;, &#x27;Horz&#x27;, &#x27;Ind&#x27;, &#x27;Ivy&#x27;, &#x27;MAAC&#x27;,\n",
       "       &#x27;MAC&#x27;, &#x27;MEAC&#x27;, &#x27;MVC&#x27;, &#x27;MWC&#x27;, &#x27;NEC&#x27;, &#x27;OVC&#x27;, &#x27;P10&#x27;, &#x27;P12&#x27;, &#x27;Pat&#x27;,\n",
       "       &#x27;SB&#x27;, &#x27;SC&#x27;, &#x27;SEC&#x27;, &#x27;SWAC&#x27;, &#x27;Slnd&#x27;, &#x27;Sum&#x27;, &#x27;WAC&#x27;, &#x27;WCC&#x27;, &#x27;ind&#x27;],\n",
       "      dtype=object)],\n",
       "                                                                drop=&#x27;first&#x27;,\n",
       "                                                                handle_unknown=&#x27;ignore&#x27;,\n",
       "                                                                sparse_output=False))]),\n",
       "                                 [&#x27;team&#x27;, &#x27;conf&#x27;])])</pre></div></div></div><div class=\"sk-parallel\"><div class=\"sk-parallel-item\"><div class=\"sk-item\"><div class=\"sk-label-container\"><div class=\"sk-label sk-toggleable\"><input class=\"sk-toggleable__control sk-hidden--visually\" id=\"sk-estimator-id-43\" type=\"checkbox\" ><label for=\"sk-estimator-id-43\" class=\"sk-toggleable__label sk-toggleable__label-arrow\">num</label><div class=\"sk-toggleable__content\"><pre>[&#x27;GP&#x27;, &#x27;Min_per&#x27;, &#x27;Ortg&#x27;, &#x27;usg&#x27;, &#x27;eFG&#x27;, &#x27;TS_per&#x27;, &#x27;ORB_per&#x27;, &#x27;DRB_per&#x27;, &#x27;AST_per&#x27;, &#x27;TO_per&#x27;, &#x27;FTM&#x27;, &#x27;FTA&#x27;, &#x27;FT_per&#x27;, &#x27;twoPM&#x27;, &#x27;twoPA&#x27;, &#x27;twoP_per&#x27;, &#x27;TPM&#x27;, &#x27;TPA&#x27;, &#x27;TP_per&#x27;, &#x27;blk_per&#x27;, &#x27;stl_per&#x27;, &#x27;porpag&#x27;, &#x27;adjoe&#x27;, &#x27;Rec_Rank&#x27;, &#x27;ast_tov&#x27;, &#x27;rimmade&#x27;, &#x27;rimmade_rimmiss&#x27;, &#x27;midmade&#x27;, &#x27;midmade_midmiss&#x27;, &#x27;rim_ratio&#x27;, &#x27;mid_ratio&#x27;, &#x27;dunksmade&#x27;, &#x27;dunksmiss_dunksmade&#x27;, &#x27;dunks_ratio&#x27;, &#x27;pick&#x27;, &#x27;drtg&#x27;, &#x27;adrtg&#x27;, &#x27;dporpag&#x27;, &#x27;stops&#x27;, &#x27;bpm&#x27;, &#x27;obpm&#x27;, &#x27;dbpm&#x27;, &#x27;gbpm&#x27;, &#x27;mp&#x27;, &#x27;ogbpm&#x27;, &#x27;dgbpm&#x27;, &#x27;oreb&#x27;, &#x27;dreb&#x27;, &#x27;treb&#x27;, &#x27;ast&#x27;, &#x27;stl&#x27;, &#x27;blk&#x27;, &#x27;pts&#x27;]</pre></div></div></div><div class=\"sk-serial\"><div class=\"sk-item\"><div class=\"sk-serial\"><div class=\"sk-item\"><div class=\"sk-estimator sk-toggleable\"><input class=\"sk-toggleable__control sk-hidden--visually\" id=\"sk-estimator-id-44\" type=\"checkbox\" ><label for=\"sk-estimator-id-44\" class=\"sk-toggleable__label sk-toggleable__label-arrow\">StandardScaler</label><div class=\"sk-toggleable__content\"><pre>StandardScaler()</pre></div></div></div></div></div></div></div></div><div class=\"sk-parallel-item\"><div class=\"sk-item\"><div class=\"sk-label-container\"><div class=\"sk-label sk-toggleable\"><input class=\"sk-toggleable__control sk-hidden--visually\" id=\"sk-estimator-id-45\" type=\"checkbox\" ><label for=\"sk-estimator-id-45\" class=\"sk-toggleable__label sk-toggleable__label-arrow\">cat</label><div class=\"sk-toggleable__content\"><pre>[&#x27;team&#x27;, &#x27;conf&#x27;]</pre></div></div></div><div class=\"sk-serial\"><div class=\"sk-item\"><div class=\"sk-serial\"><div class=\"sk-item\"><div class=\"sk-estimator sk-toggleable\"><input class=\"sk-toggleable__control sk-hidden--visually\" id=\"sk-estimator-id-46\" type=\"checkbox\" ><label for=\"sk-estimator-id-46\" class=\"sk-toggleable__label sk-toggleable__label-arrow\">OneHotEncoder</label><div class=\"sk-toggleable__content\"><pre>OneHotEncoder(categories=[array([&#x27;Abilene Christian&#x27;, &#x27;Air Force&#x27;, &#x27;Akron&#x27;, &#x27;Alabama&#x27;,\n",
       "       &#x27;Alabama A&amp;M&#x27;, &#x27;Alabama St.&#x27;, &#x27;Albany&#x27;, &#x27;Alcorn St.&#x27;, &#x27;American&#x27;,\n",
       "       &#x27;Appalachian St.&#x27;, &#x27;Arizona&#x27;, &#x27;Arizona St.&#x27;, &#x27;Arkansas&#x27;,\n",
       "       &#x27;Arkansas Little Rock&#x27;, &#x27;Arkansas Pine Bluff&#x27;, &#x27;Arkansas St.&#x27;,\n",
       "       &#x27;Army&#x27;, &#x27;Auburn&#x27;, &#x27;Austin Peay&#x27;, &#x27;BYU&#x27;, &#x27;Ball St.&#x27;, &#x27;Baylor&#x27;,\n",
       "       &#x27;Belmont&#x27;, &#x27;Bethune Cookman&#x27;, &#x27;Binghamton&#x27;, &#x27;Boise St.&#x27;,...\n",
       "       &#x27;Wright St.&#x27;, &#x27;Wyoming&#x27;, &#x27;Xavier&#x27;, &#x27;Yale&#x27;, &#x27;Youngstown St.&#x27;],\n",
       "      dtype=object),\n",
       "                          array([&#x27;A10&#x27;, &#x27;ACC&#x27;, &#x27;AE&#x27;, &#x27;ASun&#x27;, &#x27;Amer&#x27;, &#x27;B10&#x27;, &#x27;B12&#x27;, &#x27;BE&#x27;, &#x27;BSky&#x27;,\n",
       "       &#x27;BSth&#x27;, &#x27;BW&#x27;, &#x27;CAA&#x27;, &#x27;CUSA&#x27;, &#x27;GWC&#x27;, &#x27;Horz&#x27;, &#x27;Ind&#x27;, &#x27;Ivy&#x27;, &#x27;MAAC&#x27;,\n",
       "       &#x27;MAC&#x27;, &#x27;MEAC&#x27;, &#x27;MVC&#x27;, &#x27;MWC&#x27;, &#x27;NEC&#x27;, &#x27;OVC&#x27;, &#x27;P10&#x27;, &#x27;P12&#x27;, &#x27;Pat&#x27;,\n",
       "       &#x27;SB&#x27;, &#x27;SC&#x27;, &#x27;SEC&#x27;, &#x27;SWAC&#x27;, &#x27;Slnd&#x27;, &#x27;Sum&#x27;, &#x27;WAC&#x27;, &#x27;WCC&#x27;, &#x27;ind&#x27;],\n",
       "      dtype=object)],\n",
       "              drop=&#x27;first&#x27;, handle_unknown=&#x27;ignore&#x27;, sparse_output=False)</pre></div></div></div></div></div></div></div></div></div></div><div class=\"sk-item\"><div class=\"sk-estimator sk-toggleable\"><input class=\"sk-toggleable__control sk-hidden--visually\" id=\"sk-estimator-id-47\" type=\"checkbox\" ><label for=\"sk-estimator-id-47\" class=\"sk-toggleable__label sk-toggleable__label-arrow\">SMOTE</label><div class=\"sk-toggleable__content\"><pre>SMOTE()</pre></div></div></div><div class=\"sk-item\"><div class=\"sk-estimator sk-toggleable\"><input class=\"sk-toggleable__control sk-hidden--visually\" id=\"sk-estimator-id-48\" type=\"checkbox\" ><label for=\"sk-estimator-id-48\" class=\"sk-toggleable__label sk-toggleable__label-arrow\">LogisticRegression</label><div class=\"sk-toggleable__content\"><pre>LogisticRegression(max_iter=1000)</pre></div></div></div></div></div></div></div>"
      ],
      "text/plain": [
       "Pipeline(steps=[('preprocessor',\n",
       "                 ColumnTransformer(transformers=[('num',\n",
       "                                                  Pipeline(steps=[('scaler',\n",
       "                                                                   StandardScaler())]),\n",
       "                                                  ['GP', 'Min_per', 'Ortg',\n",
       "                                                   'usg', 'eFG', 'TS_per',\n",
       "                                                   'ORB_per', 'DRB_per',\n",
       "                                                   'AST_per', 'TO_per', 'FTM',\n",
       "                                                   'FTA', 'FT_per', 'twoPM',\n",
       "                                                   'twoPA', 'twoP_per', 'TPM',\n",
       "                                                   'TPA', 'TP_per', 'blk_per',\n",
       "                                                   'stl_per', 'porpag', 'adjoe',\n",
       "                                                   'Rec_Rank', 'ast_tov',\n",
       "                                                   'rimmade', 'rimmade_rimm...\n",
       "                                                                                             array(['A10', 'ACC', 'AE', 'ASun', 'Amer', 'B10', 'B12', 'BE', 'BSky',\n",
       "       'BSth', 'BW', 'CAA', 'CUSA', 'GWC', 'Horz', 'Ind', 'Ivy', 'MAAC',\n",
       "       'MAC', 'MEAC', 'MVC', 'MWC', 'NEC', 'OVC', 'P10', 'P12', 'Pat',\n",
       "       'SB', 'SC', 'SEC', 'SWAC', 'Slnd', 'Sum', 'WAC', 'WCC', 'ind'],\n",
       "      dtype=object)],\n",
       "                                                                                 drop='first',\n",
       "                                                                                 handle_unknown='ignore',\n",
       "                                                                                 sparse_output=False))]),\n",
       "                                                  ['team', 'conf'])])),\n",
       "                ('smote', SMOTE()),\n",
       "                ('classifier', LogisticRegression(max_iter=1000))])"
      ]
     },
     "execution_count": 131,
     "metadata": {},
     "output_type": "execute_result"
    }
   ],
   "source": [
    "clf.fit(df_clean, target)"
   ]
  },
  {
   "cell_type": "markdown",
   "metadata": {},
   "source": [
    "### Testing the accuracy of prediction, against the training data"
   ]
  },
  {
   "cell_type": "code",
   "execution_count": 126,
   "metadata": {},
   "outputs": [],
   "source": [
    "y_pred = clf.predict(df_clean)"
   ]
  },
  {
   "cell_type": "code",
   "execution_count": 127,
   "metadata": {},
   "outputs": [
    {
     "data": {
      "text/plain": [
       "array([[54826,   729],\n",
       "       [    0,   536]], dtype=int64)"
      ]
     },
     "execution_count": 127,
     "metadata": {},
     "output_type": "execute_result"
    }
   ],
   "source": [
    "cf_matrix = confusion_matrix(y_true=target, y_pred=y_pred)\n",
    "cf_matrix"
   ]
  },
  {
   "cell_type": "code",
   "execution_count": 128,
   "metadata": {},
   "outputs": [
    {
     "data": {
      "text/plain": [
       "Text(0.5, 23.52222222222222, 'Predicted label')"
      ]
     },
     "execution_count": 128,
     "metadata": {},
     "output_type": "execute_result"
    },
    {
     "data": {
      "image/png": "[encoded data removed]",
      "text/plain": [
       "<Figure size 640x480 with 2 Axes>"
      ]
     },
     "metadata": {},
     "output_type": "display_data"
    }
   ],
   "source": [
    "sb.heatmap(pd.DataFrame(cf_matrix), annot=True, cmap=\"YlGnBu\" ,fmt='g')\n",
    "plt.title('Confusion matrix', y=1.1)\n",
    "plt.ylabel('Actual label')\n",
    "plt.xlabel('Predicted label')"
   ]
  },
  {
   "cell_type": "markdown",
   "metadata": {},
   "source": [
    "### Run the classifer against the test data"
   ]
  },
  {
   "cell_type": "code",
   "execution_count": 138,
   "metadata": {},
   "outputs": [],
   "source": [
    "## Load raw data into dataframe\n",
    "test_df = pd.read_csv('../data/raw/test.csv', low_memory=False)\n",
    "\n",
    "## pop targets and player num\n",
    "test_ids = test_df.pop('player_id').to_frame()\n",
    "\n",
    "## preprocessing steps\n",
    "test_clean = remove_unwanted_cols(test_df)\n",
    "test_clean = fillna(test_clean)"
   ]
  },
  {
   "cell_type": "code",
   "execution_count": 133,
   "metadata": {},
   "outputs": [
    {
     "name": "stderr",
     "output_type": "stream",
     "text": [
      "c:\\Users\\Ivan\\AppData\\Local\\Programs\\Python\\Python311\\Lib\\site-packages\\sklearn\\preprocessing\\_encoders.py:227: UserWarning: Found unknown categories in columns [0] during transform. These unknown categories will be encoded as all zeros\n",
      "  warnings.warn(\n"
     ]
    }
   ],
   "source": [
    "# Apply the pipeline\n",
    "test_pred = clf.predict_proba(test_clean)"
   ]
  },
  {
   "cell_type": "code",
   "execution_count": 134,
   "metadata": {},
   "outputs": [],
   "source": [
    "# Round predicted values to 2 decimal places\n",
    "test_pred_drafted = np.round(test_pred[:, 1], 2)"
   ]
  },
  {
   "cell_type": "code",
   "execution_count": 140,
   "metadata": {},
   "outputs": [],
   "source": [
    "test_ids['drafted'] = test_pred_drafted"
   ]
  },
  {
   "cell_type": "code",
   "execution_count": 143,
   "metadata": {},
   "outputs": [],
   "source": [
    "test_ids.to_csv('../data/processed/submission.csv', index=False)"
   ]
  }
 ],
 "metadata": {
  "kernelspec": {
   "display_name": "Python 3",
   "language": "python",
   "name": "python3"
  },
  "language_info": {
   "codemirror_mode": {
    "name": "ipython",
    "version": 3
   },
   "file_extension": ".py",
   "mimetype": "text/x-python",
   "name": "python",
   "nbconvert_exporter": "python",
   "pygments_lexer": "ipython3",
   "version": "3.11.5"
  },
  "orig_nbformat": 4
 },
 "nbformat": 4,
 "nbformat_minor": 2
}
